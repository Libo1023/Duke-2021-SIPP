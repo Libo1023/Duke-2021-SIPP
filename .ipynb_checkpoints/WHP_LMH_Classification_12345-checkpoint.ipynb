{
 "cells": [
  {
   "cell_type": "code",
   "execution_count": 1,
   "metadata": {},
   "outputs": [],
   "source": [
    "import turicreate\n",
    "import math\n",
    "import string"
   ]
  },
  {
   "cell_type": "code",
   "execution_count": 2,
   "metadata": {},
   "outputs": [
    {
     "name": "stdout",
     "output_type": "stream",
     "text": [
      "(433, 48)\n",
      "(3108, 48)\n",
      "(31808, 47)\n",
      "(72247, 47)\n",
      "(215752, 47)\n"
     ]
    }
   ],
   "source": [
    "whp_1 = turicreate.SFrame.read_csv('Congressional District_1.csv', verbose = False)\n",
    "whp_2 = turicreate.SFrame.read_csv('County_2.csv', verbose = False)\n",
    "whp_3 = turicreate.SFrame.read_csv('ZIP Code_3.csv', verbose = False)\n",
    "whp_4 = turicreate.SFrame.read_csv('Tract_4.csv', verbose = False)\n",
    "whp_5 = turicreate.SFrame.read_csv('Block Group_5.csv', verbose = False)\n",
    "\n",
    "print((whp_1.num_rows(), whp_1.num_columns()))\n",
    "print((whp_2.num_rows(), whp_2.num_columns()))\n",
    "print((whp_3.num_rows(), whp_3.num_columns()))\n",
    "print((whp_4.num_rows(), whp_4.num_columns()))\n",
    "print((whp_5.num_rows(), whp_5.num_columns()))"
   ]
  },
  {
   "cell_type": "code",
   "execution_count": 3,
   "metadata": {},
   "outputs": [
    {
     "name": "stdout",
     "output_type": "stream",
     "text": [
      "31\n"
     ]
    }
   ],
   "source": [
    "features = ['2020 Total Population (Esri)',\n",
    "           '2020 Population Density (Pop per Square Mile) (Esri)',\n",
    "           '2020 Total Households (Esri)',\n",
    "           '2020 Total Housing Units (Esri)',\n",
    "           '2020 Owner Occupied Housing Units (Esri)',\n",
    "           '2020 Renter Occupied Housing Units (Esri)',\n",
    "           '2010-2020 Population: Annual Growth Rate (Esri)',\n",
    "           '2020 Housing Affordability Index (Esri)',\n",
    "           '2020 Percent of Income for Mortgage (Esri)',\n",
    "           '2010 Total Population (Esri 2020)',\n",
    "           '2010 Total Households (Esri 2020)',\n",
    "           '2010 Total Housing Units (Esri 2020)',\n",
    "           '2020 Minority Population (Esri)',\n",
    "           '2020 Diversity Index (Esri)',\n",
    "           '2020 Median Household Income (Esri)',\n",
    "           '2020 Per Capita Income (Esri)',\n",
    "           '2020 Median Home Value (Esri)',\n",
    "           '2020 Average Home Value (Esri)',\n",
    "           '2025 Total Population (Esri)',\n",
    "           '2025 Population Density (Pop per Square Mile) (Esri)',\n",
    "           '2025 Total Households (Esri)',\n",
    "           '2025 Total Housing Units (Esri)',\n",
    "           '2020-2025 Population: Annual Growth Rate (Esri)',\n",
    "           '2000-2010 Population: Annual Growth Rate (U.S. Census)',\n",
    "           'Annualized Population Change 2010-2020',\n",
    "           '% Population Change between 2010-2020',\n",
    "           'Annualized Housing Unit Change 2010-2020',\n",
    "           '% Housing Unit Change between 2010-2020',\n",
    "           'Annualized Household Change 2010-2020',\n",
    "           '% Household Change between 2010-2020',\n",
    "           'Shape__Area']\n",
    "print(len(features))\n",
    "\n",
    "whp_target = 'Average Wildfire Hazard Potential Score'"
   ]
  },
  {
   "cell_type": "code",
   "execution_count": 4,
   "metadata": {},
   "outputs": [
    {
     "name": "stdout",
     "output_type": "stream",
     "text": [
      "(320240, 32)\n",
      "(3108, 32)\n"
     ]
    }
   ],
   "source": [
    "whp_1_select = whp_1.select_columns(features + [whp_target])\n",
    "whp_2_select = whp_2.select_columns(features + [whp_target])\n",
    "whp_3_select = whp_3.select_columns(features + [whp_target]) \n",
    "whp_4_select = whp_4.select_columns(features + [whp_target])\n",
    "whp_5_select = whp_5.select_columns(features + [whp_target])\n",
    "whp = whp_1_select + whp_3_select + whp_4_select + whp_5_select\n",
    "whp_3 = whp_2_select\n",
    "\n",
    "print((whp.num_rows(), whp.num_columns()))\n",
    "print((whp_3.num_rows(), whp_3.num_columns()))"
   ]
  },
  {
   "cell_type": "code",
   "execution_count": 5,
   "metadata": {},
   "outputs": [],
   "source": [
    "def risk_reclassification(average_whp) :\n",
    "    if average_whp < 1.0 :\n",
    "        return -1 # Low Risk\n",
    "    if average_whp >= 3.0 :\n",
    "        return +1 # High Risk\n",
    "    else :\n",
    "        return +0 # Medium Risk\n",
    "    \n",
    "whp['risk'] = whp[whp_target].apply(risk_reclassification)\n",
    "whp_3['risk'] = whp_3[whp_target].apply(risk_reclassification)\n",
    "target = 'risk'"
   ]
  },
  {
   "cell_type": "code",
   "execution_count": 6,
   "metadata": {},
   "outputs": [
    {
     "name": "stdout",
     "output_type": "stream",
     "text": [
      "whp Dropping 15305 observation, keeping 304935\n"
     ]
    }
   ],
   "source": [
    "whp, whp_with_na = whp[features + [whp_target] + [target]].dropna_split()\n",
    "\n",
    "num_rows_with_na = whp_with_na.num_rows()\n",
    "num_rows = whp.num_rows()\n",
    "\n",
    "print('whp Dropping %s observation, keeping %s' % (num_rows_with_na, num_rows))"
   ]
  },
  {
   "cell_type": "code",
   "execution_count": 7,
   "metadata": {},
   "outputs": [
    {
     "name": "stdout",
     "output_type": "stream",
     "text": [
      "whp_3 Dropping 3 observation, keeping 3105\n"
     ]
    }
   ],
   "source": [
    "whp_3, whp_3_with_na = whp_3[features + [whp_target] + [target]].dropna_split()\n",
    "\n",
    "num_rows_with_na = whp_3_with_na.num_rows()\n",
    "num_rows = whp_3.num_rows()\n",
    "\n",
    "print('whp_3 Dropping %s observation, keeping %s' % (num_rows_with_na, num_rows))"
   ]
  },
  {
   "cell_type": "code",
   "execution_count": 8,
   "metadata": {},
   "outputs": [
    {
     "name": "stdout",
     "output_type": "stream",
     "text": [
      "304935\n",
      "3105\n"
     ]
    }
   ],
   "source": [
    "# train_data, test_data = whp.random_split(0.8, seed = 1)\n",
    "train_data = whp\n",
    "test_data = whp_3\n",
    "print(len(train_data))\n",
    "print(len(test_data))"
   ]
  },
  {
   "cell_type": "code",
   "execution_count": 9,
   "metadata": {},
   "outputs": [
    {
     "data": {
      "text/html": [
       "<pre>Logistic regression:</pre>"
      ],
      "text/plain": [
       "Logistic regression:"
      ]
     },
     "metadata": {},
     "output_type": "display_data"
    },
    {
     "data": {
      "text/html": [
       "<pre>--------------------------------------------------------</pre>"
      ],
      "text/plain": [
       "--------------------------------------------------------"
      ]
     },
     "metadata": {},
     "output_type": "display_data"
    },
    {
     "data": {
      "text/html": [
       "<pre>Number of examples          : 304935</pre>"
      ],
      "text/plain": [
       "Number of examples          : 304935"
      ]
     },
     "metadata": {},
     "output_type": "display_data"
    },
    {
     "data": {
      "text/html": [
       "<pre>Number of classes           : 3</pre>"
      ],
      "text/plain": [
       "Number of classes           : 3"
      ]
     },
     "metadata": {},
     "output_type": "display_data"
    },
    {
     "data": {
      "text/html": [
       "<pre>Number of feature columns   : 31</pre>"
      ],
      "text/plain": [
       "Number of feature columns   : 31"
      ]
     },
     "metadata": {},
     "output_type": "display_data"
    },
    {
     "data": {
      "text/html": [
       "<pre>Number of unpacked features : 31</pre>"
      ],
      "text/plain": [
       "Number of unpacked features : 31"
      ]
     },
     "metadata": {},
     "output_type": "display_data"
    },
    {
     "data": {
      "text/html": [
       "<pre>Number of coefficients      : 64</pre>"
      ],
      "text/plain": [
       "Number of coefficients      : 64"
      ]
     },
     "metadata": {},
     "output_type": "display_data"
    },
    {
     "data": {
      "text/html": [
       "<pre>Starting Accelerated Gradient (FISTA)</pre>"
      ],
      "text/plain": [
       "Starting Accelerated Gradient (FISTA)"
      ]
     },
     "metadata": {},
     "output_type": "display_data"
    },
    {
     "data": {
      "text/html": [
       "<pre>--------------------------------------------------------</pre>"
      ],
      "text/plain": [
       "--------------------------------------------------------"
      ]
     },
     "metadata": {},
     "output_type": "display_data"
    },
    {
     "data": {
      "text/html": [
       "<pre>Tuning step size. First iteration could take longer than subsequent iterations.</pre>"
      ],
      "text/plain": [
       "Tuning step size. First iteration could take longer than subsequent iterations."
      ]
     },
     "metadata": {},
     "output_type": "display_data"
    },
    {
     "data": {
      "text/html": [
       "<pre>+-----------+----------+-----------+--------------+-------------------+</pre>"
      ],
      "text/plain": [
       "+-----------+----------+-----------+--------------+-------------------+"
      ]
     },
     "metadata": {},
     "output_type": "display_data"
    },
    {
     "data": {
      "text/html": [
       "<pre>| Iteration | Passes   | Step size | Elapsed Time | Training Accuracy |</pre>"
      ],
      "text/plain": [
       "| Iteration | Passes   | Step size | Elapsed Time | Training Accuracy |"
      ]
     },
     "metadata": {},
     "output_type": "display_data"
    },
    {
     "data": {
      "text/html": [
       "<pre>+-----------+----------+-----------+--------------+-------------------+</pre>"
      ],
      "text/plain": [
       "+-----------+----------+-----------+--------------+-------------------+"
      ]
     },
     "metadata": {},
     "output_type": "display_data"
    },
    {
     "data": {
      "text/html": [
       "<pre>| 0         | 1        | 1.000000  | 1.293462     | 0.722633          |</pre>"
      ],
      "text/plain": [
       "| 0         | 1        | 1.000000  | 1.293462     | 0.722633          |"
      ]
     },
     "metadata": {},
     "output_type": "display_data"
    },
    {
     "data": {
      "text/html": [
       "<pre>| 1         | 2        | 0.000002  | 9.352456     | 0.722806          |</pre>"
      ],
      "text/plain": [
       "| 1         | 2        | 0.000002  | 9.352456     | 0.722806          |"
      ]
     },
     "metadata": {},
     "output_type": "display_data"
    },
    {
     "data": {
      "text/html": [
       "<pre>| 2         | 3        | 0.000002  | 10.065354    | 0.722682          |</pre>"
      ],
      "text/plain": [
       "| 2         | 3        | 0.000002  | 10.065354    | 0.722682          |"
      ]
     },
     "metadata": {},
     "output_type": "display_data"
    },
    {
     "data": {
      "text/html": [
       "<pre>| 3         | 4        | 0.000002  | 10.783635    | 0.722803          |</pre>"
      ],
      "text/plain": [
       "| 3         | 4        | 0.000002  | 10.783635    | 0.722803          |"
      ]
     },
     "metadata": {},
     "output_type": "display_data"
    },
    {
     "data": {
      "text/html": [
       "<pre>| 4         | 5        | 0.000002  | 11.492706    | 0.722849          |</pre>"
      ],
      "text/plain": [
       "| 4         | 5        | 0.000002  | 11.492706    | 0.722849          |"
      ]
     },
     "metadata": {},
     "output_type": "display_data"
    },
    {
     "data": {
      "text/html": [
       "<pre>| 5         | 6        | 0.000002  | 12.245306    | 0.722508          |</pre>"
      ],
      "text/plain": [
       "| 5         | 6        | 0.000002  | 12.245306    | 0.722508          |"
      ]
     },
     "metadata": {},
     "output_type": "display_data"
    },
    {
     "data": {
      "text/html": [
       "<pre>| 10        | 11       | 0.000002  | 15.770158    | 0.723315          |</pre>"
      ],
      "text/plain": [
       "| 10        | 11       | 0.000002  | 15.770158    | 0.723315          |"
      ]
     },
     "metadata": {},
     "output_type": "display_data"
    },
    {
     "data": {
      "text/html": [
       "<pre>+-----------+----------+-----------+--------------+-------------------+</pre>"
      ],
      "text/plain": [
       "+-----------+----------+-----------+--------------+-------------------+"
      ]
     },
     "metadata": {},
     "output_type": "display_data"
    },
    {
     "data": {
      "text/html": [
       "<pre>Completed (Iteration limit reached).</pre>"
      ],
      "text/plain": [
       "Completed (Iteration limit reached)."
      ]
     },
     "metadata": {},
     "output_type": "display_data"
    },
    {
     "data": {
      "text/html": [
       "<pre>This model may not be optimal. To improve it, consider increasing `max_iterations`.</pre>"
      ],
      "text/plain": [
       "This model may not be optimal. To improve it, consider increasing `max_iterations`."
      ]
     },
     "metadata": {},
     "output_type": "display_data"
    }
   ],
   "source": [
    "lg_model = turicreate.logistic_classifier.create(dataset = train_data, \n",
    "                                                 target = target, \n",
    "                                                 features = features, \n",
    "                                                 validation_set = None,\n",
    "                                                 max_iterations = 10,\n",
    "                                                 l1_penalty = 0.05,\n",
    "                                                 l2_penalty = 0.05)"
   ]
  },
  {
   "cell_type": "code",
   "execution_count": 10,
   "metadata": {},
   "outputs": [
    {
     "data": {
      "text/html": [
       "<pre>Random forest classifier:</pre>"
      ],
      "text/plain": [
       "Random forest classifier:"
      ]
     },
     "metadata": {},
     "output_type": "display_data"
    },
    {
     "data": {
      "text/html": [
       "<pre>--------------------------------------------------------</pre>"
      ],
      "text/plain": [
       "--------------------------------------------------------"
      ]
     },
     "metadata": {},
     "output_type": "display_data"
    },
    {
     "data": {
      "text/html": [
       "<pre>Number of examples          : 304935</pre>"
      ],
      "text/plain": [
       "Number of examples          : 304935"
      ]
     },
     "metadata": {},
     "output_type": "display_data"
    },
    {
     "data": {
      "text/html": [
       "<pre>Number of classes           : 3</pre>"
      ],
      "text/plain": [
       "Number of classes           : 3"
      ]
     },
     "metadata": {},
     "output_type": "display_data"
    },
    {
     "data": {
      "text/html": [
       "<pre>Number of feature columns   : 31</pre>"
      ],
      "text/plain": [
       "Number of feature columns   : 31"
      ]
     },
     "metadata": {},
     "output_type": "display_data"
    },
    {
     "data": {
      "text/html": [
       "<pre>Number of unpacked features : 31</pre>"
      ],
      "text/plain": [
       "Number of unpacked features : 31"
      ]
     },
     "metadata": {},
     "output_type": "display_data"
    },
    {
     "data": {
      "text/html": [
       "<pre>+-----------+--------------+-------------------+-------------------+</pre>"
      ],
      "text/plain": [
       "+-----------+--------------+-------------------+-------------------+"
      ]
     },
     "metadata": {},
     "output_type": "display_data"
    },
    {
     "data": {
      "text/html": [
       "<pre>| Iteration | Elapsed Time | Training Accuracy | Training Log Loss |</pre>"
      ],
      "text/plain": [
       "| Iteration | Elapsed Time | Training Accuracy | Training Log Loss |"
      ]
     },
     "metadata": {},
     "output_type": "display_data"
    },
    {
     "data": {
      "text/html": [
       "<pre>+-----------+--------------+-------------------+-------------------+</pre>"
      ],
      "text/plain": [
       "+-----------+--------------+-------------------+-------------------+"
      ]
     },
     "metadata": {},
     "output_type": "display_data"
    },
    {
     "data": {
      "text/html": [
       "<pre>| 1         | 1.220720     | 0.787529          | 0.581856          |</pre>"
      ],
      "text/plain": [
       "| 1         | 1.220720     | 0.787529          | 0.581856          |"
      ]
     },
     "metadata": {},
     "output_type": "display_data"
    },
    {
     "data": {
      "text/html": [
       "<pre>| 2         | 2.393218     | 0.793930          | 0.577142          |</pre>"
      ],
      "text/plain": [
       "| 2         | 2.393218     | 0.793930          | 0.577142          |"
      ]
     },
     "metadata": {},
     "output_type": "display_data"
    },
    {
     "data": {
      "text/html": [
       "<pre>| 3         | 3.548431     | 0.793936          | 0.576633          |</pre>"
      ],
      "text/plain": [
       "| 3         | 3.548431     | 0.793936          | 0.576633          |"
      ]
     },
     "metadata": {},
     "output_type": "display_data"
    },
    {
     "data": {
      "text/html": [
       "<pre>| 4         | 4.690336     | 0.794491          | 0.576323          |</pre>"
      ],
      "text/plain": [
       "| 4         | 4.690336     | 0.794491          | 0.576323          |"
      ]
     },
     "metadata": {},
     "output_type": "display_data"
    },
    {
     "data": {
      "text/html": [
       "<pre>| 5         | 5.855655     | 0.794645          | 0.575867          |</pre>"
      ],
      "text/plain": [
       "| 5         | 5.855655     | 0.794645          | 0.575867          |"
      ]
     },
     "metadata": {},
     "output_type": "display_data"
    },
    {
     "data": {
      "text/html": [
       "<pre>| 10        | 11.570559    | 0.795455          | 0.575478          |</pre>"
      ],
      "text/plain": [
       "| 10        | 11.570559    | 0.795455          | 0.575478          |"
      ]
     },
     "metadata": {},
     "output_type": "display_data"
    },
    {
     "data": {
      "text/html": [
       "<pre>+-----------+--------------+-------------------+-------------------+</pre>"
      ],
      "text/plain": [
       "+-----------+--------------+-------------------+-------------------+"
      ]
     },
     "metadata": {},
     "output_type": "display_data"
    }
   ],
   "source": [
    "rf_model = turicreate.random_forest_classifier.create(dataset = train_data, \n",
    "                                                      target = target, \n",
    "                                                      features = features,\n",
    "                                                      validation_set = None,\n",
    "                                                      max_iterations = 10)"
   ]
  },
  {
   "cell_type": "code",
   "execution_count": 11,
   "metadata": {},
   "outputs": [
    {
     "data": {
      "text/html": [
       "<pre>Decision tree classifier:</pre>"
      ],
      "text/plain": [
       "Decision tree classifier:"
      ]
     },
     "metadata": {},
     "output_type": "display_data"
    },
    {
     "data": {
      "text/html": [
       "<pre>--------------------------------------------------------</pre>"
      ],
      "text/plain": [
       "--------------------------------------------------------"
      ]
     },
     "metadata": {},
     "output_type": "display_data"
    },
    {
     "data": {
      "text/html": [
       "<pre>Number of examples          : 304935</pre>"
      ],
      "text/plain": [
       "Number of examples          : 304935"
      ]
     },
     "metadata": {},
     "output_type": "display_data"
    },
    {
     "data": {
      "text/html": [
       "<pre>Number of classes           : 3</pre>"
      ],
      "text/plain": [
       "Number of classes           : 3"
      ]
     },
     "metadata": {},
     "output_type": "display_data"
    },
    {
     "data": {
      "text/html": [
       "<pre>Number of feature columns   : 31</pre>"
      ],
      "text/plain": [
       "Number of feature columns   : 31"
      ]
     },
     "metadata": {},
     "output_type": "display_data"
    },
    {
     "data": {
      "text/html": [
       "<pre>Number of unpacked features : 31</pre>"
      ],
      "text/plain": [
       "Number of unpacked features : 31"
      ]
     },
     "metadata": {},
     "output_type": "display_data"
    },
    {
     "data": {
      "text/html": [
       "<pre>+-----------+--------------+-------------------+-------------------+</pre>"
      ],
      "text/plain": [
       "+-----------+--------------+-------------------+-------------------+"
      ]
     },
     "metadata": {},
     "output_type": "display_data"
    },
    {
     "data": {
      "text/html": [
       "<pre>| Iteration | Elapsed Time | Training Accuracy | Training Log Loss |</pre>"
      ],
      "text/plain": [
       "| Iteration | Elapsed Time | Training Accuracy | Training Log Loss |"
      ]
     },
     "metadata": {},
     "output_type": "display_data"
    },
    {
     "data": {
      "text/html": [
       "<pre>+-----------+--------------+-------------------+-------------------+</pre>"
      ],
      "text/plain": [
       "+-----------+--------------+-------------------+-------------------+"
      ]
     },
     "metadata": {},
     "output_type": "display_data"
    },
    {
     "data": {
      "text/html": [
       "<pre>| 1         | 2.597532     | 0.815534          | 0.543930          |</pre>"
      ],
      "text/plain": [
       "| 1         | 2.597532     | 0.815534          | 0.543930          |"
      ]
     },
     "metadata": {},
     "output_type": "display_data"
    },
    {
     "data": {
      "text/html": [
       "<pre>+-----------+--------------+-------------------+-------------------+</pre>"
      ],
      "text/plain": [
       "+-----------+--------------+-------------------+-------------------+"
      ]
     },
     "metadata": {},
     "output_type": "display_data"
    }
   ],
   "source": [
    "dt_model = turicreate.decision_tree_classifier.create(dataset = train_data, \n",
    "                                                      target = target, \n",
    "                                                      features = features, \n",
    "                                                      validation_set = None, \n",
    "                                                      max_depth = 10)"
   ]
  },
  {
   "cell_type": "code",
   "execution_count": 12,
   "metadata": {},
   "outputs": [
    {
     "data": {
      "text/html": [
       "<pre>Boosted trees classifier:</pre>"
      ],
      "text/plain": [
       "Boosted trees classifier:"
      ]
     },
     "metadata": {},
     "output_type": "display_data"
    },
    {
     "data": {
      "text/html": [
       "<pre>--------------------------------------------------------</pre>"
      ],
      "text/plain": [
       "--------------------------------------------------------"
      ]
     },
     "metadata": {},
     "output_type": "display_data"
    },
    {
     "data": {
      "text/html": [
       "<pre>Number of examples          : 304935</pre>"
      ],
      "text/plain": [
       "Number of examples          : 304935"
      ]
     },
     "metadata": {},
     "output_type": "display_data"
    },
    {
     "data": {
      "text/html": [
       "<pre>Number of classes           : 3</pre>"
      ],
      "text/plain": [
       "Number of classes           : 3"
      ]
     },
     "metadata": {},
     "output_type": "display_data"
    },
    {
     "data": {
      "text/html": [
       "<pre>Number of feature columns   : 31</pre>"
      ],
      "text/plain": [
       "Number of feature columns   : 31"
      ]
     },
     "metadata": {},
     "output_type": "display_data"
    },
    {
     "data": {
      "text/html": [
       "<pre>Number of unpacked features : 31</pre>"
      ],
      "text/plain": [
       "Number of unpacked features : 31"
      ]
     },
     "metadata": {},
     "output_type": "display_data"
    },
    {
     "data": {
      "text/html": [
       "<pre>+-----------+--------------+-------------------+-------------------+</pre>"
      ],
      "text/plain": [
       "+-----------+--------------+-------------------+-------------------+"
      ]
     },
     "metadata": {},
     "output_type": "display_data"
    },
    {
     "data": {
      "text/html": [
       "<pre>| Iteration | Elapsed Time | Training Accuracy | Training Log Loss |</pre>"
      ],
      "text/plain": [
       "| Iteration | Elapsed Time | Training Accuracy | Training Log Loss |"
      ]
     },
     "metadata": {},
     "output_type": "display_data"
    },
    {
     "data": {
      "text/html": [
       "<pre>+-----------+--------------+-------------------+-------------------+</pre>"
      ],
      "text/plain": [
       "+-----------+--------------+-------------------+-------------------+"
      ]
     },
     "metadata": {},
     "output_type": "display_data"
    },
    {
     "data": {
      "text/html": [
       "<pre>| 1         | 3.713603     | 0.815534          | 0.860005          |</pre>"
      ],
      "text/plain": [
       "| 1         | 3.713603     | 0.815534          | 0.860005          |"
      ]
     },
     "metadata": {},
     "output_type": "display_data"
    },
    {
     "data": {
      "text/html": [
       "<pre>| 2         | 7.666138     | 0.821241          | 0.718525          |</pre>"
      ],
      "text/plain": [
       "| 2         | 7.666138     | 0.821241          | 0.718525          |"
      ]
     },
     "metadata": {},
     "output_type": "display_data"
    },
    {
     "data": {
      "text/html": [
       "<pre>| 3         | 10.709391    | 0.824369          | 0.625918          |</pre>"
      ],
      "text/plain": [
       "| 3         | 10.709391    | 0.824369          | 0.625918          |"
      ]
     },
     "metadata": {},
     "output_type": "display_data"
    },
    {
     "data": {
      "text/html": [
       "<pre>| 4         | 13.544513    | 0.826609          | 0.561543          |</pre>"
      ],
      "text/plain": [
       "| 4         | 13.544513    | 0.826609          | 0.561543          |"
      ]
     },
     "metadata": {},
     "output_type": "display_data"
    },
    {
     "data": {
      "text/html": [
       "<pre>| 5         | 16.231174    | 0.829642          | 0.514812          |</pre>"
      ],
      "text/plain": [
       "| 5         | 16.231174    | 0.829642          | 0.514812          |"
      ]
     },
     "metadata": {},
     "output_type": "display_data"
    },
    {
     "data": {
      "text/html": [
       "<pre>| 7         | 21.577274    | 0.834791          | 0.453441          |</pre>"
      ],
      "text/plain": [
       "| 7         | 21.577274    | 0.834791          | 0.453441          |"
      ]
     },
     "metadata": {},
     "output_type": "display_data"
    },
    {
     "data": {
      "text/html": [
       "<pre>| 8         | 24.265820    | 0.836834          | 0.432751          |</pre>"
      ],
      "text/plain": [
       "| 8         | 24.265820    | 0.836834          | 0.432751          |"
      ]
     },
     "metadata": {},
     "output_type": "display_data"
    },
    {
     "data": {
      "text/html": [
       "<pre>| 9         | 26.895917    | 0.838795          | 0.416621          |</pre>"
      ],
      "text/plain": [
       "| 9         | 26.895917    | 0.838795          | 0.416621          |"
      ]
     },
     "metadata": {},
     "output_type": "display_data"
    },
    {
     "data": {
      "text/html": [
       "<pre>| 10        | 29.674398    | 0.840848          | 0.402738          |</pre>"
      ],
      "text/plain": [
       "| 10        | 29.674398    | 0.840848          | 0.402738          |"
      ]
     },
     "metadata": {},
     "output_type": "display_data"
    },
    {
     "data": {
      "text/html": [
       "<pre>+-----------+--------------+-------------------+-------------------+</pre>"
      ],
      "text/plain": [
       "+-----------+--------------+-------------------+-------------------+"
      ]
     },
     "metadata": {},
     "output_type": "display_data"
    }
   ],
   "source": [
    "bt_model = turicreate.boosted_trees_classifier.create(dataset = train_data, \n",
    "                                                      target = target, \n",
    "                                                      features = features, \n",
    "                                                      validation_set = None, \n",
    "                                                      max_depth = 10)"
   ]
  },
  {
   "cell_type": "code",
   "execution_count": 13,
   "metadata": {},
   "outputs": [
    {
     "name": "stdout",
     "output_type": "stream",
     "text": [
      "0.4721417069243156\n",
      "0.6753623188405797\n",
      "0.7069243156199678\n",
      "0.7446054750402576\n"
     ]
    }
   ],
   "source": [
    "def measure_accuracy(model, data) :\n",
    "    results = data['risk']\n",
    "    predictions = model.predict(data)\n",
    "    correct = 0\n",
    "    for i in range(len(data)) :\n",
    "        if predictions[i] == results[i] :\n",
    "            correct += 1\n",
    "        else :\n",
    "            continue\n",
    "    accuracy = float(correct) / len(data)\n",
    "    return accuracy\n",
    "\n",
    "print(measure_accuracy(lg_model, test_data))\n",
    "print(measure_accuracy(rf_model, test_data))\n",
    "print(measure_accuracy(dt_model, test_data))\n",
    "print(measure_accuracy(bt_model, test_data))"
   ]
  },
  {
   "cell_type": "code",
   "execution_count": 14,
   "metadata": {},
   "outputs": [
    {
     "name": "stdout",
     "output_type": "stream",
     "text": [
      "0.7226326922130946\n",
      "0.527536231884058\n"
     ]
    }
   ],
   "source": [
    "def majority_classifier(data) :\n",
    "    low = 0\n",
    "    medium = 0\n",
    "    high = 0\n",
    "    results = data['risk']\n",
    "    for i in range(len(results)) :\n",
    "        if results[i] == -1 :\n",
    "            low += 1\n",
    "        if results[i] == 0 :\n",
    "            medium += 1\n",
    "        if results[i] == +1 :\n",
    "            high += 1\n",
    "    return float(max(low, medium, high)) / len(results)\n",
    "\n",
    "print(majority_classifier(train_data))\n",
    "print(majority_classifier(test_data))"
   ]
  },
  {
   "cell_type": "code",
   "execution_count": null,
   "metadata": {},
   "outputs": [],
   "source": []
  }
 ],
 "metadata": {
  "kernelspec": {
   "display_name": "Python 3",
   "language": "python",
   "name": "python3"
  },
  "language_info": {
   "codemirror_mode": {
    "name": "ipython",
    "version": 3
   },
   "file_extension": ".py",
   "mimetype": "text/x-python",
   "name": "python",
   "nbconvert_exporter": "python",
   "pygments_lexer": "ipython3",
   "version": "3.8.5"
  }
 },
 "nbformat": 4,
 "nbformat_minor": 4
}
