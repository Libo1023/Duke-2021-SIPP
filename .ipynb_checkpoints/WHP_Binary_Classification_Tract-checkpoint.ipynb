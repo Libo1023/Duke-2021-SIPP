{
 "cells": [
  {
   "cell_type": "code",
   "execution_count": 1,
   "metadata": {},
   "outputs": [],
   "source": [
    "import turicreate\n",
    "import math\n",
    "import string"
   ]
  },
  {
   "cell_type": "code",
   "execution_count": 2,
   "metadata": {},
   "outputs": [
    {
     "data": {
      "text/html": [
       "<pre>Finished parsing file /Users/zhanglibo/Desktop/LiboSection/Tract_4.csv</pre>"
      ],
      "text/plain": [
       "Finished parsing file /Users/zhanglibo/Desktop/LiboSection/Tract_4.csv"
      ]
     },
     "metadata": {},
     "output_type": "display_data"
    },
    {
     "data": {
      "text/html": [
       "<pre>Parsing completed. Parsed 100 lines in 0.376564 secs.</pre>"
      ],
      "text/plain": [
       "Parsing completed. Parsed 100 lines in 0.376564 secs."
      ]
     },
     "metadata": {},
     "output_type": "display_data"
    },
    {
     "name": "stdout",
     "output_type": "stream",
     "text": [
      "------------------------------------------------------\n",
      "Inferred types from first 100 line(s) of file as \n",
      "column_type_hints=[int,int,float,str,str,int,float,int,int,int,int,float,int,float,int,int,int,int,float,int,int,int,int,int,float,int,int,float,float,float,float,float,float,float,float,int,int,int,float,float,int,int,int,int,int,float,float]\n",
      "If parsing fails due to incorrect types, you can correct\n",
      "the inferred type list above and pass it to read_csv in\n",
      "the column_type_hints argument\n",
      "------------------------------------------------------\n"
     ]
    },
    {
     "data": {
      "text/html": [
       "<pre>Finished parsing file /Users/zhanglibo/Desktop/LiboSection/Tract_4.csv</pre>"
      ],
      "text/plain": [
       "Finished parsing file /Users/zhanglibo/Desktop/LiboSection/Tract_4.csv"
      ]
     },
     "metadata": {},
     "output_type": "display_data"
    },
    {
     "data": {
      "text/html": [
       "<pre>Parsing completed. Parsed 72247 lines in 0.555107 secs.</pre>"
      ],
      "text/plain": [
       "Parsing completed. Parsed 72247 lines in 0.555107 secs."
      ]
     },
     "metadata": {},
     "output_type": "display_data"
    }
   ],
   "source": [
    "whp = turicreate.SFrame('Tract_4.csv')"
   ]
  },
  {
   "cell_type": "code",
   "execution_count": 3,
   "metadata": {},
   "outputs": [],
   "source": [
    "# whp.print_rows(num_rows = 3, num_columns = 47)"
   ]
  },
  {
   "cell_type": "code",
   "execution_count": 4,
   "metadata": {},
   "outputs": [],
   "source": [
    "features = ['2020 Total Population (Esri)',\n",
    "           '2020 Population Density (Pop per Square Mile) (Esri)',\n",
    "           '2020 Total Households (Esri)',\n",
    "           '2020 Total Housing Units (Esri)',\n",
    "           '2020 Owner Occupied Housing Units (Esri)',\n",
    "           '2020 Renter Occupied Housing Units (Esri)',\n",
    "           '2010-2020 Population: Annual Growth Rate (Esri)',\n",
    "           '2020 Housing Affordability Index (Esri)',\n",
    "           '2020 Percent of Income for Mortgage (Esri)',\n",
    "           '2010 Total Population (Esri 2020)',\n",
    "           '2010 Total Households (Esri 2020)',\n",
    "           '2010 Total Housing Units (Esri 2020)',\n",
    "           '2020 Minority Population (Esri)',\n",
    "           '2020 Diversity Index (Esri)',\n",
    "           '2020 Median Household Income (Esri)',\n",
    "           '2020 Per Capita Income (Esri)',\n",
    "           '2020 Median Home Value (Esri)',\n",
    "           '2020 Average Home Value (Esri)',\n",
    "           '2025 Total Population (Esri)',\n",
    "           '2025 Population Density (Pop per Square Mile) (Esri)',\n",
    "           '2025 Total Households (Esri)',\n",
    "           '2025 Total Housing Units (Esri)',\n",
    "           '2020-2025 Population: Annual Growth Rate (Esri)',\n",
    "           '2000-2010 Population: Annual Growth Rate (U.S. Census)',\n",
    "           'Annualized Population Change 2010-2020',\n",
    "           '% Population Change between 2010-2020',\n",
    "           'Annualized Housing Unit Change 2010-2020',\n",
    "           '% Housing Unit Change between 2010-2020',\n",
    "           'Annualized Household Change 2010-2020',\n",
    "           '% Household Change between 2010-2020',\n",
    "           'Shape__Area']\n",
    "\n",
    "whp_target = 'Average Wildfire Hazard Potential Score'"
   ]
  },
  {
   "cell_type": "code",
   "execution_count": 5,
   "metadata": {},
   "outputs": [],
   "source": [
    "whp['risk'] = whp[whp_target].apply(lambda x: +1 if x >= 2.5 else -1)\n",
    "\n",
    "target = 'risk'"
   ]
  },
  {
   "cell_type": "code",
   "execution_count": 6,
   "metadata": {},
   "outputs": [
    {
     "name": "stdout",
     "output_type": "stream",
     "text": [
      "Dropping 1630 observation, keeping 70617\n"
     ]
    }
   ],
   "source": [
    "whp, whp_with_na = whp[[target] + features].dropna_split()\n",
    "\n",
    "num_rows_with_na = whp_with_na.num_rows()\n",
    "num_rows = whp.num_rows()\n",
    "\n",
    "print('Dropping %s observation, keeping %s' % (num_rows_with_na, num_rows))"
   ]
  },
  {
   "cell_type": "code",
   "execution_count": 7,
   "metadata": {},
   "outputs": [
    {
     "name": "stdout",
     "output_type": "stream",
     "text": [
      "56569\n",
      "14048\n"
     ]
    }
   ],
   "source": [
    "train_data, test_data = whp.random_split(0.8, seed = 1)\n",
    "print(len(train_data))\n",
    "print(len(test_data))"
   ]
  },
  {
   "cell_type": "code",
   "execution_count": 8,
   "metadata": {},
   "outputs": [
    {
     "data": {
      "text/html": [
       "<pre>Logistic regression:</pre>"
      ],
      "text/plain": [
       "Logistic regression:"
      ]
     },
     "metadata": {},
     "output_type": "display_data"
    },
    {
     "data": {
      "text/html": [
       "<pre>--------------------------------------------------------</pre>"
      ],
      "text/plain": [
       "--------------------------------------------------------"
      ]
     },
     "metadata": {},
     "output_type": "display_data"
    },
    {
     "data": {
      "text/html": [
       "<pre>Number of examples          : 56569</pre>"
      ],
      "text/plain": [
       "Number of examples          : 56569"
      ]
     },
     "metadata": {},
     "output_type": "display_data"
    },
    {
     "data": {
      "text/html": [
       "<pre>Number of classes           : 2</pre>"
      ],
      "text/plain": [
       "Number of classes           : 2"
      ]
     },
     "metadata": {},
     "output_type": "display_data"
    },
    {
     "data": {
      "text/html": [
       "<pre>Number of feature columns   : 31</pre>"
      ],
      "text/plain": [
       "Number of feature columns   : 31"
      ]
     },
     "metadata": {},
     "output_type": "display_data"
    },
    {
     "data": {
      "text/html": [
       "<pre>Number of unpacked features : 31</pre>"
      ],
      "text/plain": [
       "Number of unpacked features : 31"
      ]
     },
     "metadata": {},
     "output_type": "display_data"
    },
    {
     "data": {
      "text/html": [
       "<pre>Number of coefficients      : 32</pre>"
      ],
      "text/plain": [
       "Number of coefficients      : 32"
      ]
     },
     "metadata": {},
     "output_type": "display_data"
    },
    {
     "data": {
      "text/html": [
       "<pre>Starting Newton Method</pre>"
      ],
      "text/plain": [
       "Starting Newton Method"
      ]
     },
     "metadata": {},
     "output_type": "display_data"
    },
    {
     "data": {
      "text/html": [
       "<pre>--------------------------------------------------------</pre>"
      ],
      "text/plain": [
       "--------------------------------------------------------"
      ]
     },
     "metadata": {},
     "output_type": "display_data"
    },
    {
     "data": {
      "text/html": [
       "<pre>+-----------+----------+--------------+-------------------+</pre>"
      ],
      "text/plain": [
       "+-----------+----------+--------------+-------------------+"
      ]
     },
     "metadata": {},
     "output_type": "display_data"
    },
    {
     "data": {
      "text/html": [
       "<pre>| Iteration | Passes   | Elapsed Time | Training Accuracy |</pre>"
      ],
      "text/plain": [
       "| Iteration | Passes   | Elapsed Time | Training Accuracy |"
      ]
     },
     "metadata": {},
     "output_type": "display_data"
    },
    {
     "data": {
      "text/html": [
       "<pre>+-----------+----------+--------------+-------------------+</pre>"
      ],
      "text/plain": [
       "+-----------+----------+--------------+-------------------+"
      ]
     },
     "metadata": {},
     "output_type": "display_data"
    },
    {
     "data": {
      "text/html": [
       "<pre>| 1         | 2        | 1.340442     | 0.958193          |</pre>"
      ],
      "text/plain": [
       "| 1         | 2        | 1.340442     | 0.958193          |"
      ]
     },
     "metadata": {},
     "output_type": "display_data"
    },
    {
     "data": {
      "text/html": [
       "<pre>| 2         | 3        | 1.480123     | 0.958034          |</pre>"
      ],
      "text/plain": [
       "| 2         | 3        | 1.480123     | 0.958034          |"
      ]
     },
     "metadata": {},
     "output_type": "display_data"
    },
    {
     "data": {
      "text/html": [
       "<pre>| 3         | 4        | 1.629270     | 0.957733          |</pre>"
      ],
      "text/plain": [
       "| 3         | 4        | 1.629270     | 0.957733          |"
      ]
     },
     "metadata": {},
     "output_type": "display_data"
    },
    {
     "data": {
      "text/html": [
       "<pre>| 4         | 5        | 1.756592     | 0.957468          |</pre>"
      ],
      "text/plain": [
       "| 4         | 5        | 1.756592     | 0.957468          |"
      ]
     },
     "metadata": {},
     "output_type": "display_data"
    },
    {
     "data": {
      "text/html": [
       "<pre>| 5         | 6        | 1.895718     | 0.957839          |</pre>"
      ],
      "text/plain": [
       "| 5         | 6        | 1.895718     | 0.957839          |"
      ]
     },
     "metadata": {},
     "output_type": "display_data"
    },
    {
     "data": {
      "text/html": [
       "<pre>| 10        | 11       | 2.655497     | 0.958705          |</pre>"
      ],
      "text/plain": [
       "| 10        | 11       | 2.655497     | 0.958705          |"
      ]
     },
     "metadata": {},
     "output_type": "display_data"
    },
    {
     "data": {
      "text/html": [
       "<pre>| 11        | 12       | 2.824466     | 0.958688          |</pre>"
      ],
      "text/plain": [
       "| 11        | 12       | 2.824466     | 0.958688          |"
      ]
     },
     "metadata": {},
     "output_type": "display_data"
    },
    {
     "data": {
      "text/html": [
       "<pre>+-----------+----------+--------------+-------------------+</pre>"
      ],
      "text/plain": [
       "+-----------+----------+--------------+-------------------+"
      ]
     },
     "metadata": {},
     "output_type": "display_data"
    },
    {
     "data": {
      "text/html": [
       "<pre>SUCCESS: Optimal solution found.</pre>"
      ],
      "text/plain": [
       "SUCCESS: Optimal solution found."
      ]
     },
     "metadata": {},
     "output_type": "display_data"
    },
    {
     "data": {
      "text/html": [
       "<pre></pre>"
      ],
      "text/plain": []
     },
     "metadata": {},
     "output_type": "display_data"
    }
   ],
   "source": [
    "binary_model = turicreate.logistic_classifier.create(dataset = train_data, \n",
    "                                                     target = target, \n",
    "                                                     features = features, \n",
    "                                                     validation_set = None,\n",
    "                                                     max_iterations = 15)"
   ]
  },
  {
   "cell_type": "code",
   "execution_count": 9,
   "metadata": {},
   "outputs": [
    {
     "name": "stdout",
     "output_type": "stream",
     "text": [
      "<class 'turicreate.data_structures.sarray.SArray'>\n"
     ]
    }
   ],
   "source": [
    "predictions = binary_model.predict(test_data)\n",
    "print(type(test_data['risk']))"
   ]
  },
  {
   "cell_type": "code",
   "execution_count": 10,
   "metadata": {},
   "outputs": [
    {
     "name": "stdout",
     "output_type": "stream",
     "text": [
      "<class 'turicreate.data_structures.sarray.SArray'>\n",
      "0.9567910022779044\n"
     ]
    }
   ],
   "source": [
    "results = test_data['risk']\n",
    "print(type(results))\n",
    "correct = 0\n",
    "for i in range(len(predictions)) :\n",
    "    if predictions[i] == results[i] :\n",
    "        correct = correct + 1\n",
    "    else :\n",
    "        continue\n",
    "\n",
    "accuracy = float(correct) / len(predictions)\n",
    "print(accuracy)"
   ]
  },
  {
   "cell_type": "code",
   "execution_count": null,
   "metadata": {},
   "outputs": [],
   "source": []
  }
 ],
 "metadata": {
  "kernelspec": {
   "display_name": "Python 3",
   "language": "python",
   "name": "python3"
  },
  "language_info": {
   "codemirror_mode": {
    "name": "ipython",
    "version": 3
   },
   "file_extension": ".py",
   "mimetype": "text/x-python",
   "name": "python",
   "nbconvert_exporter": "python",
   "pygments_lexer": "ipython3",
   "version": "3.8.5"
  }
 },
 "nbformat": 4,
 "nbformat_minor": 4
}
