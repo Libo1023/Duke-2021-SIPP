{
 "cells": [
  {
   "cell_type": "code",
   "execution_count": 1,
   "metadata": {},
   "outputs": [],
   "source": [
    "import turicreate\n",
    "import math\n",
    "import string"
   ]
  },
  {
   "cell_type": "code",
   "execution_count": 2,
   "metadata": {},
   "outputs": [
    {
     "name": "stdout",
     "output_type": "stream",
     "text": [
      "(433, 48)\n",
      "(3108, 48)\n",
      "(31808, 47)\n",
      "(72247, 47)\n",
      "(215752, 47)\n"
     ]
    }
   ],
   "source": [
    "# Read CSV files\n",
    "\n",
    "whp_1 = turicreate.SFrame.read_csv('Congressional District_1.csv', verbose = False)\n",
    "whp_2 = turicreate.SFrame.read_csv('County_2.csv', verbose = False)\n",
    "whp_3 = turicreate.SFrame.read_csv('ZIP Code_3.csv', verbose = False)\n",
    "whp_4 = turicreate.SFrame.read_csv('Tract_4.csv', verbose = False)\n",
    "whp_5 = turicreate.SFrame.read_csv('Block Group_5.csv', verbose = False)\n",
    "\n",
    "print((whp_1.num_rows(), whp_1.num_columns()))\n",
    "print((whp_2.num_rows(), whp_2.num_columns()))\n",
    "print((whp_3.num_rows(), whp_3.num_columns()))\n",
    "print((whp_4.num_rows(), whp_4.num_columns()))\n",
    "print((whp_5.num_rows(), whp_5.num_columns()))"
   ]
  },
  {
   "cell_type": "code",
   "execution_count": 3,
   "metadata": {},
   "outputs": [
    {
     "name": "stdout",
     "output_type": "stream",
     "text": [
      "41\n"
     ]
    }
   ],
   "source": [
    "# Set ID features to join predicted results into mappable Geodatabase format\n",
    "\n",
    "ID_features = ['OBJECTID', 'ID']\n",
    "\n",
    "# Set features for Logistic Classifier\n",
    "\n",
    "features = ['2020 Total Population (Esri)',\n",
    "            '2020 Population Density (Pop per Square Mile) (Esri)',\n",
    "            '2020 Total Households (Esri)',\n",
    "            '2020 Total Housing Units (Esri)',\n",
    "            '2020 Owner Occupied Housing Units (Esri)',\n",
    "            '2020 Renter Occupied Housing Units (Esri)',\n",
    "            '2010-2020 Population: Annual Growth Rate (Esri)',\n",
    "            '2020 Housing Affordability Index (Esri)',\n",
    "            '2020 Percent of Income for Mortgage (Esri)',\n",
    "            '2010 Total Population (Esri 2020)',\n",
    "            '2010 Total Households (Esri 2020)',\n",
    "            '2010 Total Housing Units (Esri 2020)',\n",
    "            '2020 Minority Population (Esri)',\n",
    "            '2020 Diversity Index (Esri)',\n",
    "            '2020 Median Household Income (Esri)',\n",
    "            '2020 Per Capita Income (Esri)',\n",
    "            '2020 Median Home Value (Esri)',\n",
    "            '2020 Average Home Value (Esri)',\n",
    "            '2025 Total Population (Esri)',\n",
    "            '2025 Population Density (Pop per Square Mile) (Esri)',\n",
    "            '2025 Total Households (Esri)',\n",
    "            '2025 Total Housing Units (Esri)',\n",
    "            '2020-2025 Population: Annual Growth Rate (Esri)',\n",
    "            '2000-2010 Population: Annual Growth Rate (U.S. Census)',\n",
    "            'Annualized Population Change 2010-2020',\n",
    "            '% Population Change between 2010-2020',\n",
    "            'Annualized Housing Unit Change 2010-2020',\n",
    "            '% Housing Unit Change between 2010-2020',\n",
    "            'Annualized Household Change 2010-2020',\n",
    "            '% Household Change between 2010-2020',\n",
    "            # 'Population Weighted Wildfire Hazard Potential Score',\n",
    "            'Lowest Possible Wildfire Hazard Potential Score',\n",
    "            'Highest Possible Wildfire Hazard Potential Score',\n",
    "            'Difference between MIN and MAX Wildfire Hazard Potential Scores',\n",
    "            'Standard Deviation of Wildfire Hazard Potential Score',\n",
    "            'Sum of all Wildfire Hazard Potential Scores within Area',\n",
    "            'Number of Unique Wildfire Potential Scores',\n",
    "            'Most Frequently Occurring Wildfire Hazard Potential Score',\n",
    "            'Least Frequently Occurring Wildfire Hazard Potential Score',\n",
    "            'Median Wildfire Hazard Potential Score',\n",
    "            'Shape__Area',\n",
    "            'Shape__Length']\n",
    "print(len(features))\n",
    "\n",
    "# Set target for Logistic Classifier\n",
    "\n",
    "whp_target = 'Average Wildfire Hazard Potential Score'"
   ]
  },
  {
   "cell_type": "code",
   "execution_count": 4,
   "metadata": {},
   "outputs": [
    {
     "name": "stdout",
     "output_type": "stream",
     "text": [
      "(320240, 42)\n",
      "(3108, 44)\n"
     ]
    }
   ],
   "source": [
    "# Select ID features, model features and model target from data frames\n",
    "\n",
    "whp_1_select = whp_1.select_columns(features + [whp_target])\n",
    "whp_2_select = whp_2.select_columns(ID_features + features + [whp_target])\n",
    "whp_3_select = whp_3.select_columns(features + [whp_target]) \n",
    "whp_4_select = whp_4.select_columns(features + [whp_target])\n",
    "whp_5_select = whp_5.select_columns(features + [whp_target])\n",
    "whp = whp_1_select + whp_3_select + whp_4_select + whp_5_select\n",
    "whp_test = whp_2_select # County_2\n",
    "\n",
    "print((whp.num_rows(), whp.num_columns()))\n",
    "print((whp_test.num_rows(), whp_test.num_columns()))"
   ]
  },
  {
   "cell_type": "code",
   "execution_count": 5,
   "metadata": {},
   "outputs": [],
   "source": [
    "def risk_reclassification(average_whp) :\n",
    "    if average_whp < 1.0 :\n",
    "        return -1 # Low Risk\n",
    "    if average_whp >= 3.0 :\n",
    "        return +1 # High Risk\n",
    "    else :\n",
    "        return +0 # Medium Risk\n",
    "\n",
    "# Reclassify risk\n",
    "    \n",
    "whp['risk'] = whp[whp_target].apply(risk_reclassification)\n",
    "whp_test['risk'] = whp_test[whp_target].apply(risk_reclassification)\n",
    "target = 'risk'"
   ]
  },
  {
   "cell_type": "code",
   "execution_count": 6,
   "metadata": {},
   "outputs": [
    {
     "name": "stdout",
     "output_type": "stream",
     "text": [
      "whp Dropping 15305 observation, keeping 304935\n"
     ]
    }
   ],
   "source": [
    "# Drop observations with missing values in training data\n",
    "\n",
    "whp, whp_with_na = whp[features + [whp_target] + [target]].dropna_split()\n",
    "\n",
    "num_rows_with_na = whp_with_na.num_rows()\n",
    "num_rows = whp.num_rows()\n",
    "\n",
    "print('whp Dropping %s observation, keeping %s' % (num_rows_with_na, num_rows))"
   ]
  },
  {
   "cell_type": "code",
   "execution_count": 7,
   "metadata": {},
   "outputs": [
    {
     "name": "stdout",
     "output_type": "stream",
     "text": [
      "whp_test Dropping 3 observation, keeping 3105\n"
     ]
    }
   ],
   "source": [
    "# Drop observations with missing values in testing data\n",
    "\n",
    "whp_test, whp_test_with_na = whp_test[ID_features + features + [whp_target] + [target]].dropna_split()\n",
    "\n",
    "num_rows_with_na = whp_test_with_na.num_rows()\n",
    "num_rows = whp_test.num_rows()\n",
    "\n",
    "print('whp_test Dropping %s observation, keeping %s' % (num_rows_with_na, num_rows))"
   ]
  },
  {
   "cell_type": "code",
   "execution_count": 8,
   "metadata": {},
   "outputs": [
    {
     "name": "stdout",
     "output_type": "stream",
     "text": [
      "+----------+-------+------------------------------+-----+\n",
      "| OBJECTID |   ID  | 2020 Total Population (Esri) | ... |\n",
      "+----------+-------+------------------------------+-----+\n",
      "|   2620   | 48261 |             445              | ... |\n",
      "|   2624   | 48269 |             270              | ... |\n",
      "|   2640   | 48301 |              88              | ... |\n",
      "+----------+-------+------------------------------+-----+\n",
      "[3 rows x 45 columns]\n",
      "\n"
     ]
    }
   ],
   "source": [
    "whp_test_with_na.print_rows(num_rows = 3, num_columns = 3)"
   ]
  },
  {
   "cell_type": "code",
   "execution_count": 9,
   "metadata": {},
   "outputs": [
    {
     "name": "stdout",
     "output_type": "stream",
     "text": [
      "304935\n",
      "3105\n",
      "Train Data Majority Classifier Accuracy: 0.7226326922130946\n",
      "Test Data Majority Classifier Accuracy: 0.527536231884058\n"
     ]
    }
   ],
   "source": [
    "# train_data, test_data = whp.random_split(0.8, seed = 1)\n",
    "train_data = whp\n",
    "test_data = whp_test\n",
    "print(len(train_data))\n",
    "print(len(test_data))\n",
    "\n",
    "# Calculate the Majority Classifier accuracies in training and testing datasets\n",
    "# Models built should at least have better performances than Majority Classifiers\n",
    "\n",
    "def majority_classifier(data) :\n",
    "    low = 0\n",
    "    medium = 0\n",
    "    high = 0\n",
    "    results = data['risk']\n",
    "    for i in range(len(results)) :\n",
    "        if results[i] == -1 :\n",
    "            low += 1\n",
    "        if results[i] == 0 :\n",
    "            medium += 1\n",
    "        if results[i] == +1 :\n",
    "            high += 1\n",
    "    return float(max(low, medium, high)) / len(results)\n",
    "\n",
    "print('Train Data Majority Classifier Accuracy: ' + str(majority_classifier(train_data)))\n",
    "print('Test Data Majority Classifier Accuracy: ' + str(majority_classifier(test_data)))"
   ]
  },
  {
   "cell_type": "code",
   "execution_count": 10,
   "metadata": {},
   "outputs": [],
   "source": [
    "# Define maximum iteration\n",
    "\n",
    "# iterations = [5, 10, 15, 20, 30, 50, 100, 200, 300, 500]\n",
    "iterations = [5, 10, 15, 20, 25, 30, 40, 50, 100, 200]\n",
    "# iterations = [5, 200]\n",
    "lg_train_accuracies = list()\n",
    "lg_test_accuracies = list()"
   ]
  },
  {
   "cell_type": "code",
   "execution_count": 11,
   "metadata": {},
   "outputs": [
    {
     "name": "stdout",
     "output_type": "stream",
     "text": [
      "Train Accuracy: 0.8713889845376883   Test Accuracy: 0.7903381642512077\n",
      "Train Accuracy: 0.8875170118221916   Test Accuracy: 0.8099838969404187\n",
      "Train Accuracy: 0.8993293652745667   Test Accuracy: 0.8225442834138487\n",
      "Train Accuracy: 0.9073704232049453   Test Accuracy: 0.8312399355877617\n",
      "Train Accuracy: 0.9147785593651105   Test Accuracy: 0.8466988727858293\n",
      "Train Accuracy: 0.9212127174643776   Test Accuracy: 0.856682769726248\n",
      "Train Accuracy: 0.9291094823486973   Test Accuracy: 0.8676328502415459\n",
      "Train Accuracy: 0.9333136570088707   Test Accuracy: 0.8756843800322062\n",
      "Train Accuracy: 0.9423877219735354   Test Accuracy: 0.8882447665056361\n",
      "Train Accuracy: 0.9475953891813009   Test Accuracy: 0.9014492753623189\n"
     ]
    }
   ],
   "source": [
    "# Train and Test Logistic Classifiers\n",
    "\n",
    "for iteration in iterations :\n",
    "    lg_model = turicreate.logistic_classifier.create(dataset = train_data,\n",
    "                                                     target = target, \n",
    "                                                     features = features,\n",
    "                                                     validation_set = None,\n",
    "                                                     max_iterations = iteration,\n",
    "                                                     l1_penalty = 0.1,\n",
    "                                                     l2_penalty = 0.1,\n",
    "                                                     verbose = False)\n",
    "    train_accuracy = lg_model.evaluate(train_data, metric = 'accuracy')['accuracy']\n",
    "    test_accuracy = lg_model.evaluate(test_data, metric = 'accuracy')['accuracy']\n",
    "    # print((train_accuracy, test_accuracy))\n",
    "    print('Train Accuracy: ' + str(train_accuracy) + '   Test Accuracy: ' + str(test_accuracy))\n",
    "    lg_train_accuracies.append(train_accuracy)\n",
    "    lg_test_accuracies.append(test_accuracy)"
   ]
  },
  {
   "cell_type": "code",
   "execution_count": 12,
   "metadata": {},
   "outputs": [
    {
     "data": {
      "text/plain": [
       "Class                          : LogisticClassifier\n",
       "\n",
       "Schema\n",
       "------\n",
       "Number of coefficients         : 84\n",
       "Number of examples             : 304935\n",
       "Number of classes              : 3\n",
       "Number of feature columns      : 41\n",
       "Number of unpacked features    : 41\n",
       "\n",
       "Hyperparameters\n",
       "---------------\n",
       "L1 penalty                     : 0.1\n",
       "L2 penalty                     : 0.1\n",
       "\n",
       "Training Summary\n",
       "----------------\n",
       "Solver                         : fista\n",
       "Solver iterations              : 200\n",
       "Solver status                  : Completed (Iteration limit reached).\n",
       "Training time (sec)            : 150.8954\n",
       "\n",
       "Settings\n",
       "--------\n",
       "Log-likelihood                 : 37481.7006\n",
       "\n",
       "Highest Positive Coefficients\n",
       "-----------------------------\n",
       "Lowest Possible Wildfire Hazard Potential Score : 16.5079\n",
       "Lowest Possible Wildfire Hazard Potential Score : 14.7062\n",
       "Standard Deviation of Wildfire Hazard Potential Score : 5.8699\n",
       "Median Wildfire Hazard Potential Score : 5.5104\n",
       "Most Frequently Occurring Wildfire Hazard Potential Score : 3.5034\n",
       "\n",
       "Lowest Negative Coefficients\n",
       "----------------------------\n",
       "(intercept)                    : -7.5629\n",
       "(intercept)                    : -7.063\n",
       "Least Frequently Occurring Wildfire Hazard Potential Score : -1.0974\n",
       "Annualized Housing Unit Change 2010-2020 : -0.7945\n",
       "Least Frequently Occurring Wildfire Hazard Potential Score : -0.7896"
      ]
     },
     "execution_count": 12,
     "metadata": {},
     "output_type": "execute_result"
    }
   ],
   "source": [
    "# Look into the Logistic Classifier\n",
    "\n",
    "lg_model"
   ]
  },
  {
   "cell_type": "code",
   "execution_count": 13,
   "metadata": {},
   "outputs": [
    {
     "name": "stdout",
     "output_type": "stream",
     "text": [
      "+----------+-------+------------------------------+-------------------------------+\n",
      "| OBJECTID |   ID  | 2020 Total Population (Esri) | 2020 Population Density (P... |\n",
      "+----------+-------+------------------------------+-------------------------------+\n",
      "|   2620   | 48261 |             445              |              0.3              |\n",
      "|   2624   | 48269 |             270              |              0.3              |\n",
      "|   2640   | 48301 |              88              |              0.1              |\n",
      "+----------+-------+------------------------------+-------------------------------+\n",
      "+------------------------------+-------------------------------+-------------------------------+\n",
      "| 2020 Total Households (Esri) | 2020 Total Housing Units (... | 2020 Owner Occupied Housin... |\n",
      "+------------------------------+-------------------------------+-------------------------------+\n",
      "|             157              |              233              |               45              |\n",
      "|             108              |              186              |               31              |\n",
      "|              42              |               50              |               30              |\n",
      "+------------------------------+-------------------------------+-------------------------------+\n",
      "+-------------------------------+-------------------------------+-------------------------------+\n",
      "| 2020 Renter Occupied Housi... | 2010-2020 Population: Annu... | 2020 Housing Affordability... |\n",
      "+-------------------------------+-------------------------------+-------------------------------+\n",
      "|              112              |              0.66             |              None             |\n",
      "|               77              |             -0.56             |              None             |\n",
      "|               12              |              0.69             |              None             |\n",
      "+-------------------------------+-------------------------------+-------------------------------+\n",
      "+-------------------------------+-------------------------------+-------------------------------+\n",
      "| 2020 Percent of Income for... | 2010 Total Population (Esr... | 2010 Total Households (Esr... |\n",
      "+-------------------------------+-------------------------------+-------------------------------+\n",
      "|              None             |              416              |              147              |\n",
      "|              None             |              286              |              113              |\n",
      "|              None             |               82              |               39              |\n",
      "+-------------------------------+-------------------------------+-------------------------------+\n",
      "+-------------------------------+-------------------------------+-----------------------------+\n",
      "| 2010 Total Housing Units (... | 2020 Minority Population (... | 2020 Diversity Index (Esri) |\n",
      "+-------------------------------+-------------------------------+-----------------------------+\n",
      "|              233              |              354              |             50.8            |\n",
      "|              186              |               50              |             38.1            |\n",
      "|               50              |               21              |             53.8            |\n",
      "+-------------------------------+-------------------------------+-----------------------------+\n",
      "+-------------------------------+-------------------------------+-------------------------------+\n",
      "| 2020 Median Household Inco... | 2020 Per Capita Income (Esri) | 2020 Median Home Value (Esri) |\n",
      "+-------------------------------+-------------------------------+-------------------------------+\n",
      "|             35447             |             15354             |             41667             |\n",
      "|             58884             |             33911             |             48438             |\n",
      "|             46791             |             29665             |             75000             |\n",
      "+-------------------------------+-------------------------------+-------------------------------+\n",
      "+--------------------------------+------------------------------+-------------------------------+\n",
      "| 2020 Average Home Value (Esri) | 2025 Total Population (Esri) | 2025 Population Density (P... |\n",
      "+--------------------------------+------------------------------+-------------------------------+\n",
      "|             215556             |             448              |              0.3              |\n",
      "|             84677              |             261              |              0.3              |\n",
      "|             140000             |              90              |              0.1              |\n",
      "+--------------------------------+------------------------------+-------------------------------+\n",
      "+------------------------------+-------------------------------+-------------------------------+\n",
      "| 2025 Total Households (Esri) | 2025 Total Housing Units (... | 2020-2025 Population: Annu... |\n",
      "+------------------------------+-------------------------------+-------------------------------+\n",
      "|             158              |              233              |              0.13             |\n",
      "|             105              |              187              |             -0.68             |\n",
      "|              43              |               51              |              0.45             |\n",
      "+------------------------------+-------------------------------+-------------------------------+\n",
      "+-------------------------------+-------------------------------+\n",
      "| 2000-2010 Population: Annu... | Annualized Population Chan... |\n",
      "+-------------------------------+-------------------------------+\n",
      "|              0.05             |       0.676165968331621       |\n",
      "|             -2.17             |       -0.574044549774788      |\n",
      "|              2.04             |       0.708674972225132       |\n",
      "+-------------------------------+-------------------------------+\n",
      "+-------------------------------+-------------------------------+-------------------------------+\n",
      "| % Population Change betwee... | Annualized Housing Unit Ch... | % Housing Unit Change betw... |\n",
      "+-------------------------------+-------------------------------+-------------------------------+\n",
      "|        12.4463519313305       |              0.0              |              0.0              |\n",
      "|       -8.60215053763441       |              0.0              |              0.0              |\n",
      "|              12.0             |              0.0              |              0.0              |\n",
      "+-------------------------------+-------------------------------+-------------------------------+\n",
      "+-------------------------------+-------------------------------+-------------------------------+\n",
      "| Annualized Household Chang... | % Household Change between... | Lowest Possible Wildfire H... |\n",
      "+-------------------------------+-------------------------------+-------------------------------+\n",
      "|       0.660302634426313       |        6.80272108843537       |               0               |\n",
      "|       -0.451543379472119      |       -4.42477876106195       |               0               |\n",
      "|        0.74383251323098       |        7.69230769230769       |               0               |\n",
      "+-------------------------------+-------------------------------+-------------------------------+\n",
      "+-------------------------------+-------------------------------+\n",
      "| Highest Possible Wildfire ... | Difference between MIN and... |\n",
      "+-------------------------------+-------------------------------+\n",
      "|               5               |               5               |\n",
      "|               5               |               5               |\n",
      "|               4               |               4               |\n",
      "+-------------------------------+-------------------------------+\n",
      "+-------------------------------+-------------------------------+-------------------------------+\n",
      "| Standard Deviation of Wild... | Sum of all Wildfire Hazard... | Number of Unique Wildfire ... |\n",
      "+-------------------------------+-------------------------------+-------------------------------+\n",
      "|        1.04046258595866       |             86834             |               6               |\n",
      "|       0.949663116529297       |             98038             |               6               |\n",
      "|       0.370311950402234       |             26772             |               5               |\n",
      "+-------------------------------+-------------------------------+-------------------------------+\n",
      "+-------------------------------+-------------------------------+-------------------------------+\n",
      "| Most Frequently Occurring ... | Least Frequently Occurring... | Median Wildfire Hazard Pot... |\n",
      "+-------------------------------+-------------------------------+-------------------------------+\n",
      "|               1               |               5               |               1               |\n",
      "|               3               |               1               |               3               |\n",
      "|               1               |               4               |               1               |\n",
      "+-------------------------------+-------------------------------+-------------------------------+\n",
      "+------------------+------------------+-------------------------------+------+--------------+\n",
      "|   Shape__Area    |  Shape__Length   | Average Wildfire Hazard Po... | risk | predict_risk |\n",
      "+------------------+------------------+-------------------------------+------+--------------+\n",
      "| 3750147450.11649 | 1316247.11913235 |        1.73245281513108       |  0   |      5       |\n",
      "| 2365111073.68744 | 194531.872948355 |        3.02204001109707       |  1   |      5       |\n",
      "| 1752369313.00122 | 212521.714142407 |        1.11359760409301       |  0   |      5       |\n",
      "+------------------+------------------+-------------------------------+------+--------------+\n",
      "[3 rows x 46 columns]\n",
      "\n"
     ]
    }
   ],
   "source": [
    "whp_test['predict_risk'] = lg_model.predict(whp_test)\n",
    "whp_test_with_na['predict_risk'] = 5\n",
    "whp_test_with_na.print_rows(num_rows = 3, num_columns = 46)\n",
    "whp_test = whp_test + whp_test_with_na"
   ]
  },
  {
   "cell_type": "code",
   "execution_count": 14,
   "metadata": {},
   "outputs": [
    {
     "name": "stdout",
     "output_type": "stream",
     "text": [
      "+----------+------+------------------------------+-----+\n",
      "| OBJECTID |  ID  | 2020 Total Population (Esri) | ... |\n",
      "+----------+------+------------------------------+-----+\n",
      "|    1     | 1001 |            58224             | ... |\n",
      "|    2     | 1003 |            227660            | ... |\n",
      "|    3     | 1005 |            26326             | ... |\n",
      "+----------+------+------------------------------+-----+\n",
      "[3108 rows x 46 columns]\n",
      "\n"
     ]
    }
   ],
   "source": [
    "# whp_test.print_rows(num_rows = 5, num_columns = 46)\n",
    "whp_test.print_rows(num_rows = 3, num_columns = 3)"
   ]
  },
  {
   "cell_type": "code",
   "execution_count": 15,
   "metadata": {},
   "outputs": [
    {
     "name": "stdout",
     "output_type": "stream",
     "text": [
      "+----------+------+------+--------------+\n",
      "| OBJECTID |  ID  | risk | predict_risk |\n",
      "+----------+------+------+--------------+\n",
      "|    1     | 1001 |  0   |      0       |\n",
      "|    2     | 1003 |  0   |      0       |\n",
      "|    3     | 1005 |  0   |      0       |\n",
      "|    4     | 1007 |  0   |      0       |\n",
      "|    5     | 1009 |  0   |      0       |\n",
      "+----------+------+------+--------------+\n",
      "[3108 rows x 4 columns]\n",
      "\n"
     ]
    }
   ],
   "source": [
    "county_predict = whp_test.select_columns(ID_features + ['risk'] + ['predict_risk'])\n",
    "county_predict.print_rows(num_rows = 5)"
   ]
  },
  {
   "cell_type": "code",
   "execution_count": 16,
   "metadata": {},
   "outputs": [],
   "source": [
    "# Export the predicted results to CSV file format\n",
    "\n",
    "county_predict.export_csv('Model_Predict_Libo.csv')"
   ]
  }
 ],
 "metadata": {
  "kernelspec": {
   "display_name": "Python 3",
   "language": "python",
   "name": "python3"
  },
  "language_info": {
   "codemirror_mode": {
    "name": "ipython",
    "version": 3
   },
   "file_extension": ".py",
   "mimetype": "text/x-python",
   "name": "python",
   "nbconvert_exporter": "python",
   "pygments_lexer": "ipython3",
   "version": "3.8.5"
  }
 },
 "nbformat": 4,
 "nbformat_minor": 4
}
